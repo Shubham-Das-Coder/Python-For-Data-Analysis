{
 "cells": [
  {
   "cell_type": "markdown",
   "id": "3b805cd5",
   "metadata": {},
   "source": [
    "THE UNIFORM DISTRIBUTION"
   ]
  },
  {
   "cell_type": "code",
   "execution_count": 1,
   "id": "1390f2d5",
   "metadata": {},
   "outputs": [],
   "source": [
    "%matplotlib inline\n",
    "import numpy as np\n",
    "import pandas as pd\n",
    "import matplotlib.pyplot as plt\n",
    "import scipy.stats as stats"
   ]
  },
  {
   "cell_type": "code",
   "execution_count": 2,
   "id": "53109bfe",
   "metadata": {},
   "outputs": [],
   "source": [
    "uniform_data=stats.uniform.rvs(size=10000,loc=0,scale=10)\n",
    "#GENERRATING 10000 NUMBERS FROM 0 To 10"
   ]
  },
  {
   "cell_type": "code",
   "execution_count": 3,
   "id": "5ef607d2",
   "metadata": {},
   "outputs": [
    {
     "data": {
      "text/plain": [
       "<AxesSubplot:ylabel='Density'>"
      ]
     },
     "execution_count": 3,
     "metadata": {},
     "output_type": "execute_result"
    },
    {
     "data": {
      "image/png": "[encoded data removed]",
      "text/plain": [
       "<Figure size 648x648 with 1 Axes>"
      ]
     },
     "metadata": {
      "needs_background": "light"
     },
     "output_type": "display_data"
    }
   ],
   "source": [
    "pd.DataFrame(uniform_data).plot(kind=\"density\",figsize=(9,9),xlim=(-1,11))"
   ]
  },
  {
   "cell_type": "code",
   "execution_count": 4,
   "id": "f3cf87f8",
   "metadata": {},
   "outputs": [
    {
     "data": {
      "text/plain": [
       "0.25"
      ]
     },
     "execution_count": 4,
     "metadata": {},
     "output_type": "execute_result"
    }
   ],
   "source": [
    "stats.uniform.cdf(x=2.5,     #Cutoff Value (Quantile) To Check\n",
    "                  loc=0,     #Distribution Start\n",
    "                  scale=10)  #Distribution End"
   ]
  },
  {
   "cell_type": "code",
   "execution_count": 5,
   "id": "62daed3d",
   "metadata": {},
   "outputs": [
    {
     "data": {
      "text/plain": [
       "4.0"
      ]
     },
     "execution_count": 5,
     "metadata": {},
     "output_type": "execute_result"
    }
   ],
   "source": [
    "  stats.uniform.ppf(q=0.4,    #Probability Cutoff\n",
    "                   loc=0,     #Distribution Start\n",
    "                   scale=10)  #Distribution End"
   ]
  },
  {
   "cell_type": "code",
   "execution_count": 6,
   "id": "7e282d53",
   "metadata": {},
   "outputs": [
    {
     "name": "stdout",
     "output_type": "stream",
     "text": [
      "Density At x Value -1\n",
      "0.0\n",
      "Density At x Value 2\n",
      "0.1\n",
      "Density At x Value 5\n",
      "0.1\n",
      "Density At x Value 8\n",
      "0.1\n",
      "Density At x Value 11\n",
      "0.0\n"
     ]
    }
   ],
   "source": [
    "for x in range(-1,12,3):\n",
    "    print(\"Density At x Value \" + str(x))\n",
    "    print(stats.uniform.pdf(x,loc=0,scale=10))"
   ]
  },
  {
   "cell_type": "markdown",
   "id": "ab6563af",
   "metadata": {},
   "source": [
    "GETTING RANDOM NUMBERS AND SETTING THE SEED"
   ]
  },
  {
   "cell_type": "code",
   "execution_count": 7,
   "id": "ab7959ef",
   "metadata": {},
   "outputs": [],
   "source": [
    "import random"
   ]
  },
  {
   "cell_type": "code",
   "execution_count": 8,
   "id": "435b504e",
   "metadata": {},
   "outputs": [
    {
     "data": {
      "text/plain": [
       "0"
      ]
     },
     "execution_count": 8,
     "metadata": {},
     "output_type": "execute_result"
    }
   ],
   "source": [
    "random.randint(0,10)   #GET A RANDOM INTEGER IN THE SPECIFIED RANGE"
   ]
  },
  {
   "cell_type": "code",
   "execution_count": 9,
   "id": "e6fba85b",
   "metadata": {},
   "outputs": [
    {
     "data": {
      "text/plain": [
       "5"
      ]
     },
     "execution_count": 9,
     "metadata": {},
     "output_type": "execute_result"
    }
   ],
   "source": [
    "random.choice([1,2,3,4,5,6,7,8,9])  #GET A RANDOM ELEMENT FROM THE SEQUENCE"
   ]
  },
  {
   "cell_type": "code",
   "execution_count": 10,
   "id": "0f39df3d",
   "metadata": {},
   "outputs": [
    {
     "data": {
      "text/plain": [
       "0.4807772998472921"
      ]
     },
     "execution_count": 10,
     "metadata": {},
     "output_type": "execute_result"
    }
   ],
   "source": [
    "random.random()   #GET A REAL NUMBER FROM 0 TO 1"
   ]
  },
  {
   "cell_type": "code",
   "execution_count": 11,
   "id": "b582f9aa",
   "metadata": {},
   "outputs": [
    {
     "data": {
      "text/plain": [
       "7.626833202969633"
      ]
     },
     "execution_count": 11,
     "metadata": {},
     "output_type": "execute_result"
    }
   ],
   "source": [
    "random.uniform(0,10)   #GET A REAL NUMBER IN THE SPECIFIED RANGE"
   ]
  },
  {
   "cell_type": "code",
   "execution_count": 12,
   "id": "9fc7437b",
   "metadata": {},
   "outputs": [
    {
     "name": "stdout",
     "output_type": "stream",
     "text": [
      "[4.7457067868854805, 6.574725026572553, 6.664104711248381, 1.4260035292536777]\n",
      "[4.7457067868854805, 6.574725026572553, 6.664104711248381, 1.4260035292536777]\n"
     ]
    }
   ],
   "source": [
    "random.seed(12)  #SET THE SEED TO AN ARBITRARY VALUE\n",
    "print([random.uniform(0,10) for x in range(4)])\n",
    "random.seed(12)  #SET THE SEED TO THE SAME VALUE\n",
    "print([random.uniform(0,10) for x in range(4)])"
   ]
  },
  {
   "cell_type": "markdown",
   "id": "545aa92b",
   "metadata": {},
   "source": [
    "THE NORMAL DISTRIBUTION"
   ]
  },
  {
   "cell_type": "code",
   "execution_count": 13,
   "id": "fc90fb84",
   "metadata": {},
   "outputs": [
    {
     "name": "stdout",
     "output_type": "stream",
     "text": [
      "0.15865525393145707 0.15865525393145707 0.6826894921370859\n"
     ]
    }
   ],
   "source": [
    "prob_under_minus1=stats.norm.cdf(x=-1,loc=0,scale=1)\n",
    "prob_over_plus1=1-stats.norm.cdf(x=1,loc=0,scale=1)\n",
    "between_prob=1-(prob_under_minus1+prob_over_plus1)\n",
    "print(prob_under_minus1,prob_over_plus1,between_prob)"
   ]
  },
  {
   "cell_type": "code",
   "execution_count": 17,
   "id": "5eba60aa",
   "metadata": {},
   "outputs": [
    {
     "data": {
      "text/plain": [
       "Text(1.4, 0.03, '0.159')"
      ]
     },
     "execution_count": 17,
     "metadata": {},
     "output_type": "execute_result"
    },
    {
     "data": {
      "image/png": "[encoded data removed]",
      "text/plain": [
       "<Figure size 504x504 with 1 Axes>"
      ]
     },
     "metadata": {
      "needs_background": "light"
     },
     "output_type": "display_data"
    }
   ],
   "source": [
    "plt.rcParams['figure.figsize']=(7,7)\n",
    "plt.fill_between(x=np.arange(-4,-1,0.01),\n",
    "                y1=stats.norm.pdf(np.arange(-4,-1,0.01)),\n",
    "                facecolor='red',\n",
    "                alpha=0.35)\n",
    "plt.fill_between(x=np.arange(1,4,0.01),\n",
    "                y1=stats.norm.pdf(np.arange(1,4,0.01)),\n",
    "                facecolor='red',\n",
    "                alpha=0.35)\n",
    "plt.fill_between(x=np.arange(-1,1,0.01),\n",
    "                y1=stats.norm.pdf(np.arange(-1,1,0.01)),\n",
    "                facecolor='blue',\n",
    "                alpha=0.35)\n",
    "plt.text(x=-1.8,y=0.03,s=round(prob_under_minus1,3))\n",
    "plt.text(x=-0.2,y=0.01,s=round(between_prob,3))\n",
    "plt.text(x=1.4,y=0.03,s=round(prob_over_plus1,3))"
   ]
  },
  {
   "cell_type": "code",
   "execution_count": 19,
   "id": "2d797f06",
   "metadata": {},
   "outputs": [
    {
     "name": "stdout",
     "output_type": "stream",
     "text": [
      "-1.9599639845400545\n",
      "1.959963984540054\n"
     ]
    }
   ],
   "source": [
    "print(stats.norm.ppf(q=0.025))  #FIND THE QUANTILE FOR THE 2.5% CUTOFF\n",
    "print(stats.norm.ppf(q=0.975))  #FIND THE QUANTILE FOR THE 97.5% CUTOFF"
   ]
  },
  {
   "cell_type": "code",
   "execution_count": 20,
   "id": "0326b558",
   "metadata": {},
   "outputs": [
    {
     "name": "stdout",
     "output_type": "stream",
     "text": [
      "0.0013498980316300933\n",
      "0.9986501019683699\n"
     ]
    }
   ],
   "source": [
    "print(stats.norm.cdf(x=-3))  #Find how much data is below -3\n",
    "print(stats.norm.cdf(x=3))   #Find how much data is above 3"
   ]
  },
  {
   "cell_type": "markdown",
   "id": "f4ec662c",
   "metadata": {},
   "source": [
    "BINOMIAL DISTRIBUTION"
   ]
  },
  {
   "cell_type": "code",
   "execution_count": 23,
   "id": "2fac6c95",
   "metadata": {},
   "outputs": [
    {
     "name": "stdout",
     "output_type": "stream",
     "text": [
      "col_0   0   1    2     3     4     5     6     7    8    9   10\n",
      "row_0                                                          \n",
      "counts   6  90  443  1190  2086  2412  2036  1189  434  104  10\n"
     ]
    },
    {
     "data": {
      "image/png": "[encoded data removed]",
      "text/plain": [
       "<Figure size 504x504 with 1 Axes>"
      ]
     },
     "metadata": {
      "needs_background": "light"
     },
     "output_type": "display_data"
    }
   ],
   "source": [
    "fair_coin_flips=stats.binom.rvs(n=10,        #Number of flips per trial\n",
    "                                p=0.5,       #Success probability\n",
    "                                size=10000)  #Number of trials\n",
    "print(pd.crosstab(index=\"counts\",columns=fair_coin_flips))\n",
    "pd.DataFrame(fair_coin_flips).hist(range=(-0.5,10.5),bins=11);"
   ]
  },
  {
   "cell_type": "code",
   "execution_count": 24,
   "id": "f652b055",
   "metadata": {},
   "outputs": [
    {
     "name": "stdout",
     "output_type": "stream",
     "text": [
      "col_0   3   4    5    6     7     8     9     10\n",
      "row_0                                           \n",
      "counts   9  49  270  841  2107  2973  2688  1063\n"
     ]
    },
    {
     "data": {
      "image/png": "[encoded data removed]",
      "text/plain": [
       "<Figure size 504x504 with 1 Axes>"
      ]
     },
     "metadata": {
      "needs_background": "light"
     },
     "output_type": "display_data"
    }
   ],
   "source": [
    " fair_coin_flips=stats.binom.rvs(n=10,        #Number of flips per trial\n",
    "                                p=0.8,       #Success probability\n",
    "                                size=10000)  #Number of trials\n",
    "print(pd.crosstab(index=\"counts\",columns=fair_coin_flips))\n",
    "pd.DataFrame(fair_coin_flips).hist(range=(-0.5,10.5),bins=11);"
   ]
  },
  {
   "cell_type": "code",
   "execution_count": 25,
   "id": "13f4f80f",
   "metadata": {},
   "outputs": [
    {
     "name": "stdout",
     "output_type": "stream",
     "text": [
      "col_0      0     1     2     3    4    5   6  7  8\n",
      "row_0                                             \n",
      "counts  1102  2681  3003  2011  872  264  58  7  2\n"
     ]
    },
    {
     "data": {
      "image/png": "[encoded data removed]",
      "text/plain": [
       "<Figure size 504x504 with 1 Axes>"
      ]
     },
     "metadata": {
      "needs_background": "light"
     },
     "output_type": "display_data"
    }
   ],
   "source": [
    "fair_coin_flips=stats.binom.rvs(n=10,        #Number of flips per trial\n",
    "                                p=0.2,       #Success probability\n",
    "                                size=10000)  #Number of trials\n",
    "print(pd.crosstab(index=\"counts\",columns=fair_coin_flips))\n",
    "pd.DataFrame(fair_coin_flips).hist(range=(-0.5,10.5),bins=11);"
   ]
  },
  {
   "cell_type": "code",
   "execution_count": 26,
   "id": "d989d3a3",
   "metadata": {},
   "outputs": [
    {
     "data": {
      "text/plain": [
       "0.032793497599999964"
      ]
     },
     "execution_count": 26,
     "metadata": {},
     "output_type": "execute_result"
    }
   ],
   "source": [
    "stats.binom.cdf(k=5,   #Probability of k=5 successes or less\n",
    "               n=10,   #With 10 flips\n",
    "                p=0.8) #And success probability 0.8"
   ]
  },
  {
   "cell_type": "code",
   "execution_count": 28,
   "id": "6a52df7a",
   "metadata": {},
   "outputs": [
    {
     "data": {
      "text/plain": [
       "0.37580963840000003"
      ]
     },
     "execution_count": 28,
     "metadata": {},
     "output_type": "execute_result"
    }
   ],
   "source": [
    "1-stats.binom.cdf(k=8,   #Probability of k=9 successes or more\n",
    "               n=10,   #With 10 flips\n",
    "                p=0.8) #And success probability 0.8"
   ]
  },
  {
   "cell_type": "code",
   "execution_count": 33,
   "id": "4c2a84dc",
   "metadata": {},
   "outputs": [
    {
     "data": {
      "text/plain": [
       "0.24609375000000025"
      ]
     },
     "execution_count": 33,
     "metadata": {},
     "output_type": "execute_result"
    }
   ],
   "source": [
    "stats.binom.pmf(k=5,   #Probability of k=5 success \n",
    "                n=10,  #With 10 flips\n",
    "                p=0.5)  #And success probability 0.5"
   ]
  },
  {
   "cell_type": "code",
   "execution_count": 34,
   "id": "0f5c92bc",
   "metadata": {},
   "outputs": [
    {
     "data": {
      "text/plain": [
       "0.301989888"
      ]
     },
     "execution_count": 34,
     "metadata": {},
     "output_type": "execute_result"
    }
   ],
   "source": [
    "stats.binom.pmf(k=8,   #Probability of k=8 success \n",
    "                n=10,  #With 10 flips\n",
    "                p=0.8)  #And success probability 0.8"
   ]
  },
  {
   "cell_type": "markdown",
   "id": "a9b72f91",
   "metadata": {},
   "source": [
    "THE GEOMETRIC AND EXPONENTIAL DISTRIBUTIONS"
   ]
  },
  {
   "cell_type": "code",
   "execution_count": 42,
   "id": "162b2d1f",
   "metadata": {},
   "outputs": [
    {
     "name": "stdout",
     "output_type": "stream",
     "text": [
      "col_0     1     2     3    4    5    6   7   8   9   10  11  12  13  14  15\n",
      "row_0                                                                      \n",
      "counts  5093  2460  1249  598  295  129  91  33  25  15   3   3   3   1   2\n"
     ]
    },
    {
     "data": {
      "image/png": "[encoded data removed]",
      "text/plain": [
       "<Figure size 504x504 with 1 Axes>"
      ]
     },
     "metadata": {
      "needs_background": "light"
     },
     "output_type": "display_data"
    }
   ],
   "source": [
    "random.seed(12)\n",
    "flips_till_heads=stats.geom.rvs(size=10000,  #Generate geometric data\n",
    "                               p=0.5)        #With success probability 0.5\n",
    "print(pd.crosstab(index=\"counts\",columns=flips_till_heads))\n",
    "pd.DataFrame(flips_till_heads).hist(range=(-0.5,max(flips_till_heads)+0.5)\n",
    "                                  ,bins=max(flips_till_heads)+1);"
   ]
  },
  {
   "cell_type": "code",
   "execution_count": 43,
   "id": "378a987c",
   "metadata": {},
   "outputs": [
    {
     "data": {
      "text/plain": [
       "0.03125"
      ]
     },
     "execution_count": 43,
     "metadata": {},
     "output_type": "execute_result"
    }
   ],
   "source": [
    "first_five=stats.geom.cdf(k=5,   #Probability of success of first 5 flips\n",
    "                          p=0.5)\n",
    "1-first_five"
   ]
  },
  {
   "cell_type": "code",
   "execution_count": 44,
   "id": "b6a23ab5",
   "metadata": {},
   "outputs": [
    {
     "data": {
      "text/plain": [
       "0.25"
      ]
     },
     "execution_count": 44,
     "metadata": {},
     "output_type": "execute_result"
    }
   ],
   "source": [
    "stats.geom.pmf(k=2,  #Probability of needing exactly 2 flips to get first success\n",
    "              p=0.5)"
   ]
  },
  {
   "cell_type": "code",
   "execution_count": 45,
   "id": "f5ec0e32",
   "metadata": {},
   "outputs": [
    {
     "data": {
      "text/plain": [
       "0.36787944117144233"
      ]
     },
     "execution_count": 45,
     "metadata": {},
     "output_type": "execute_result"
    }
   ],
   "source": [
    "prob1=stats.expon.cdf(x=1,scale=1)\n",
    "1-prob1"
   ]
  },
  {
   "cell_type": "code",
   "execution_count": 49,
   "id": "6d8b2501",
   "metadata": {},
   "outputs": [
    {
     "data": {
      "image/png": "[encoded data removed]",
      "text/plain": [
       "<Figure size 504x504 with 1 Axes>"
      ]
     },
     "metadata": {
      "needs_background": "light"
     },
     "output_type": "display_data"
    }
   ],
   "source": [
    "plt.fill_between(x=np.arange(0,1,0.01),\n",
    "                y1=stats.expon.pdf(np.arange(0,1,0.01)),\n",
    "                facecolor='blue',\n",
    "                alpha=0.35)\n",
    "plt.fill_between(x=np.arange(1,7,0.01),\n",
    "                y1=stats.expon.pdf(np.arange(1,7,0.01)),\n",
    "                facecolor='red',\n",
    "                alpha=0.35)\n",
    "plt.text(x=0.3,y=0.2,s=round(prob1,3))\n",
    "plt.text(x=1.5,y=0.08,s=round(1-prob1,3));"
   ]
  },
  {
   "cell_type": "markdown",
   "id": "8d01a8af",
   "metadata": {},
   "source": [
    "THE POISSON DISTRIBUTION"
   ]
  },
  {
   "cell_type": "code",
   "execution_count": 51,
   "id": "e86daea1",
   "metadata": {},
   "outputs": [
    {
     "name": "stdout",
     "output_type": "stream",
     "text": [
      "col_0      0     1     2    3    4   5  6\n",
      "row_0                                    \n",
      "counts  3702  3701  1787  623  158  21  8\n"
     ]
    },
    {
     "data": {
      "image/png": "[encoded data removed]",
      "text/plain": [
       "<Figure size 504x504 with 1 Axes>"
      ]
     },
     "metadata": {
      "needs_background": "light"
     },
     "output_type": "display_data"
    }
   ],
   "source": [
    "random.seed(12)\n",
    "arrival_rate_1=stats.poisson.rvs(size=10000,  #Generate poisson data\n",
    "                                mu=1)         #Average arrival time 1\n",
    "print(pd.crosstab(index=\"counts\",columns=arrival_rate_1))\n",
    "pd.DataFrame(arrival_rate_1).hist(range=(-0.5,max(arrival_rate_1)+0.5)\n",
    "                                 ,bins=max(arrival_rate_1)+1);"
   ]
  },
  {
   "cell_type": "code",
   "execution_count": 52,
   "id": "3563a3fe",
   "metadata": {},
   "outputs": [
    {
     "name": "stdout",
     "output_type": "stream",
     "text": [
      "col_0   0   1   2   3    4    5    6    7     8     9   ...   16   17  18  19  \\\n",
      "row_0                                                   ...                     \n",
      "counts   1   4  28  79  204  355  625  894  1115  1249  ...  225  136  73  50   \n",
      "\n",
      "col_0   20  21  22  23  25  26  \n",
      "row_0                           \n",
      "counts  12   5   2   1   1   1  \n",
      "\n",
      "[1 rows x 26 columns]\n"
     ]
    },
    {
     "data": {
      "image/png": "[encoded data removed]",
      "text/plain": [
       "<Figure size 504x504 with 1 Axes>"
      ]
     },
     "metadata": {
      "needs_background": "light"
     },
     "output_type": "display_data"
    }
   ],
   "source": [
    "random.seed(12)\n",
    "arrival_rate_1=stats.poisson.rvs(size=10000,  #Generate poisson data\n",
    "                                mu=10)         #Average arrival time 10\n",
    "print(pd.crosstab(index=\"counts\",columns=arrival_rate_1))\n",
    "pd.DataFrame(arrival_rate_1).hist(range=(-0.5,max(arrival_rate_1)+0.5)\n",
    "                                 ,bins=max(arrival_rate_1)+1);"
   ]
  },
  {
   "cell_type": "code",
   "execution_count": null,
   "id": "9d6d18ec",
   "metadata": {},
   "outputs": [],
   "source": []
  }
 ],
 "metadata": {
  "kernelspec": {
   "display_name": "Python 3",
   "language": "python",
   "name": "python3"
  },
  "language_info": {
   "codemirror_mode": {
    "name": "ipython",
    "version": 3
   },
   "file_extension": ".py",
   "mimetype": "text/x-python",
   "name": "python",
   "nbconvert_exporter": "python",
   "pygments_lexer": "ipython3",
   "version": "3.8.8"
  }
 },
 "nbformat": 4,
 "nbformat_minor": 5
}
