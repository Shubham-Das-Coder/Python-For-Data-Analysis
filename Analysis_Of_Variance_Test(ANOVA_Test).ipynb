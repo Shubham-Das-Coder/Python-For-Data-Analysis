{
 "cells": [
  {
   "cell_type": "code",
   "execution_count": 1,
   "id": "ff6734ec",
   "metadata": {},
   "outputs": [],
   "source": [
    "import numpy as np\n",
    "import pandas as pd\n",
    "import matplotlib.pyplot as plt\n",
    "import scipy.stats as stats"
   ]
  },
  {
   "cell_type": "code",
   "execution_count": 1,
   "id": "73f545c8",
   "metadata": {},
   "outputs": [
    {
     "data": {
      "application/javascript": [
       "\n",
       "        if (window._pyforest_update_imports_cell) { window._pyforest_update_imports_cell('from scipy import stats\\nimport numpy as np'); }\n",
       "    "
      ],
      "text/plain": [
       "<IPython.core.display.Javascript object>"
      ]
     },
     "metadata": {},
     "output_type": "display_data"
    },
    {
     "data": {
      "application/javascript": [
       "\n",
       "        if (window._pyforest_update_imports_cell) { window._pyforest_update_imports_cell('from scipy import stats\\nimport numpy as np'); }\n",
       "    "
      ],
      "text/plain": [
       "<IPython.core.display.Javascript object>"
      ]
     },
     "metadata": {},
     "output_type": "display_data"
    },
    {
     "data": {
      "application/javascript": [
       "\n",
       "        if (window._pyforest_update_imports_cell) { window._pyforest_update_imports_cell('from scipy import stats\\nimport numpy as np'); }\n",
       "    "
      ],
      "text/plain": [
       "<IPython.core.display.Javascript object>"
      ]
     },
     "metadata": {},
     "output_type": "display_data"
    },
    {
     "data": {
      "application/javascript": [
       "\n",
       "        if (window._pyforest_update_imports_cell) { window._pyforest_update_imports_cell('import pandas as pd\\nfrom scipy import stats\\nimport numpy as np'); }\n",
       "    "
      ],
      "text/plain": [
       "<IPython.core.display.Javascript object>"
      ]
     },
     "metadata": {},
     "output_type": "display_data"
    },
    {
     "data": {
      "application/javascript": [
       "\n",
       "        if (window._pyforest_update_imports_cell) { window._pyforest_update_imports_cell('import pandas as pd\\nfrom scipy import stats\\nimport numpy as np'); }\n",
       "    "
      ],
      "text/plain": [
       "<IPython.core.display.Javascript object>"
      ]
     },
     "metadata": {},
     "output_type": "display_data"
    },
    {
     "data": {
      "text/plain": [
       "F_onewayResult(statistic=1.7744689357329695, pvalue=0.13173183201930463)"
      ]
     },
     "execution_count": 1,
     "metadata": {},
     "output_type": "execute_result"
    }
   ],
   "source": [
    "np.random.seed(12)\n",
    "races=[\"asian\",\"black\",\"hispanic\",\"other\",\"white\"]\n",
    "#Generate random data\n",
    "voter_race=np.random.choice(a=races,\n",
    "                           p=[0.05,0.15,0.25,0.05,0.5],\n",
    "                           size=1000)\n",
    "voter_age=stats.poisson.rvs(loc=18,\n",
    "                           mu=30,\n",
    "                           size=1000)\n",
    "#Group age data by race\n",
    "voter_frame=pd.DataFrame({\"race\":voter_race,\"age\":voter_age})\n",
    "groups=voter_frame.groupby(\"race\").groups\n",
    "#Etract individual groups\n",
    "asian=voter_age[groups[\"asian\"]]\n",
    "black=voter_age[groups[\"black\"]]\n",
    "hispanic=voter_age[groups[\"hispanic\"]]\n",
    "other=voter_age[groups[\"other\"]]\n",
    "white=voter_age[groups[\"white\"]]\n",
    "#Perform the ANOVA\n",
    "stats.f_oneway(asian,black,hispanic,other,white)"
   ]
  },
  {
   "cell_type": "code",
   "execution_count": 4,
   "id": "a7a6f361",
   "metadata": {},
   "outputs": [
    {
     "name": "stdout",
     "output_type": "stream",
     "text": [
      "             sum_sq     df         F    PR(>F)\n",
      "race        199.369    4.0  1.774469  0.131732\n",
      "Residual  27948.102  995.0       NaN       NaN\n"
     ]
    }
   ],
   "source": [
    "import statsmodels.api as sm\n",
    "from statsmodels.formula.api import ols\n",
    "\n",
    "model=ols('age~race',            #Model formula\n",
    "         data=voter_frame).fit()\n",
    "anova_result=sm.stats.anova_lm(model,typ=2)\n",
    "print(anova_result)"
   ]
  },
  {
   "cell_type": "code",
   "execution_count": 7,
   "id": "604c7e0f",
   "metadata": {},
   "outputs": [
    {
     "data": {
      "application/javascript": [
       "\n",
       "        if (window._pyforest_update_imports_cell) { window._pyforest_update_imports_cell('import pandas as pd\\nfrom scipy import stats\\nimport numpy as np'); }\n",
       "    "
      ],
      "text/plain": [
       "<IPython.core.display.Javascript object>"
      ]
     },
     "metadata": {},
     "output_type": "display_data"
    },
    {
     "data": {
      "application/javascript": [
       "\n",
       "        if (window._pyforest_update_imports_cell) { window._pyforest_update_imports_cell('import pandas as pd\\nfrom scipy import stats\\nimport numpy as np'); }\n",
       "    "
      ],
      "text/plain": [
       "<IPython.core.display.Javascript object>"
      ]
     },
     "metadata": {},
     "output_type": "display_data"
    },
    {
     "data": {
      "application/javascript": [
       "\n",
       "        if (window._pyforest_update_imports_cell) { window._pyforest_update_imports_cell('import pandas as pd\\nfrom scipy import stats\\nimport numpy as np'); }\n",
       "    "
      ],
      "text/plain": [
       "<IPython.core.display.Javascript object>"
      ]
     },
     "metadata": {},
     "output_type": "display_data"
    },
    {
     "data": {
      "application/javascript": [
       "\n",
       "        if (window._pyforest_update_imports_cell) { window._pyforest_update_imports_cell('import pandas as pd\\nfrom scipy import stats\\nimport numpy as np'); }\n",
       "    "
      ],
      "text/plain": [
       "<IPython.core.display.Javascript object>"
      ]
     },
     "metadata": {},
     "output_type": "display_data"
    },
    {
     "data": {
      "application/javascript": [
       "\n",
       "        if (window._pyforest_update_imports_cell) { window._pyforest_update_imports_cell('import pandas as pd\\nfrom scipy import stats\\nimport numpy as np'); }\n",
       "    "
      ],
      "text/plain": [
       "<IPython.core.display.Javascript object>"
      ]
     },
     "metadata": {},
     "output_type": "display_data"
    },
    {
     "data": {
      "application/javascript": [
       "\n",
       "        if (window._pyforest_update_imports_cell) { window._pyforest_update_imports_cell('import pandas as pd\\nfrom scipy import stats\\nimport numpy as np'); }\n",
       "    "
      ],
      "text/plain": [
       "<IPython.core.display.Javascript object>"
      ]
     },
     "metadata": {},
     "output_type": "display_data"
    },
    {
     "data": {
      "application/javascript": [
       "\n",
       "        if (window._pyforest_update_imports_cell) { window._pyforest_update_imports_cell('import pandas as pd\\nfrom scipy import stats\\nimport numpy as np'); }\n",
       "    "
      ],
      "text/plain": [
       "<IPython.core.display.Javascript object>"
      ]
     },
     "metadata": {},
     "output_type": "display_data"
    },
    {
     "data": {
      "text/plain": [
       "F_onewayResult(statistic=9.642070031781937, pvalue=1.1877197736468024e-07)"
      ]
     },
     "execution_count": 7,
     "metadata": {},
     "output_type": "execute_result"
    }
   ],
   "source": [
    "np.random.seed(12)\n",
    "#Generate random data\n",
    "voter_race=np.random.choice(a=races,\n",
    "                           p=[0.05,0.15,0.25,0.05,0.5],\n",
    "                           size=1000)\n",
    "\n",
    "#Use a different distribution for white ages\n",
    "white_ages=stats.poisson.rvs(loc=18,\n",
    "                            mu=32,    #Average age of white people\n",
    "                            size=1000)\n",
    "voter_ages=stats.poisson.rvs(loc=18,\n",
    "                            mu=32,    #Average age of people\n",
    "                            size=1000)\n",
    "voter_age=np.where(voter_race==\"white\",white_ages,voter_age)\n",
    "\n",
    "#Group age data by race\n",
    "voter_frame=pd.DataFrame({\"race\":voter_race,\"age\":voter_age})\n",
    "groups=voter_frame.groupby(\"race\").groups\n",
    "\n",
    "#Extract individual groups\n",
    "asian=voter_age[groups[\"asian\"]]\n",
    "black=voter_age[groups[\"black\"]]\n",
    "hispanic=voter_age[groups[\"hispanic\"]]\n",
    "other=voter_age[groups[\"other\"]]\n",
    "white=voter_age[groups[\"white\"]]\n",
    "\n",
    "#Perform the ANOVA\n",
    "stats.f_oneway(asian,black,hispanic,other,white)"
   ]
  },
  {
   "cell_type": "code",
   "execution_count": 8,
   "id": "110b4efa",
   "metadata": {},
   "outputs": [
    {
     "name": "stdout",
     "output_type": "stream",
     "text": [
      "               sum_sq     df        F        PR(>F)\n",
      "race       1162.89467    4.0  9.64207  1.187720e-07\n",
      "Residual  30000.82433  995.0      NaN           NaN\n"
     ]
    }
   ],
   "source": [
    "#Alternate method\n",
    "model=ols('age~race',   #Model formula\n",
    "         data=voter_frame).fit()\n",
    "anova_result=sm.stats.anova_lm(model,typ=2)\n",
    "print(anova_result)"
   ]
  },
  {
   "cell_type": "code",
   "execution_count": 9,
   "id": "85f5c832",
   "metadata": {},
   "outputs": [
    {
     "name": "stdout",
     "output_type": "stream",
     "text": [
      "asian black\n"
     ]
    },
    {
     "data": {
      "application/javascript": [
       "\n",
       "        if (window._pyforest_update_imports_cell) { window._pyforest_update_imports_cell('import pandas as pd\\nfrom scipy import stats\\nimport numpy as np'); }\n",
       "    "
      ],
      "text/plain": [
       "<IPython.core.display.Javascript object>"
      ]
     },
     "metadata": {},
     "output_type": "display_data"
    },
    {
     "name": "stdout",
     "output_type": "stream",
     "text": [
      "Ttest_indResult(statistic=1.4723166654510063, pvalue=0.14259864916065687)\n",
      "asian hispanic\n"
     ]
    },
    {
     "data": {
      "application/javascript": [
       "\n",
       "        if (window._pyforest_update_imports_cell) { window._pyforest_update_imports_cell('import pandas as pd\\nfrom scipy import stats\\nimport numpy as np'); }\n",
       "    "
      ],
      "text/plain": [
       "<IPython.core.display.Javascript object>"
      ]
     },
     "metadata": {},
     "output_type": "display_data"
    },
    {
     "name": "stdout",
     "output_type": "stream",
     "text": [
      "Ttest_indResult(statistic=0.7952576949464497, pvalue=0.42712310624411387)\n",
      "asian other\n"
     ]
    },
    {
     "data": {
      "application/javascript": [
       "\n",
       "        if (window._pyforest_update_imports_cell) { window._pyforest_update_imports_cell('import pandas as pd\\nfrom scipy import stats\\nimport numpy as np'); }\n",
       "    "
      ],
      "text/plain": [
       "<IPython.core.display.Javascript object>"
      ]
     },
     "metadata": {},
     "output_type": "display_data"
    },
    {
     "name": "stdout",
     "output_type": "stream",
     "text": [
      "Ttest_indResult(statistic=0.023943564194904926, pvalue=0.9809494819541007)\n",
      "asian white\n"
     ]
    },
    {
     "data": {
      "application/javascript": [
       "\n",
       "        if (window._pyforest_update_imports_cell) { window._pyforest_update_imports_cell('import pandas as pd\\nfrom scipy import stats\\nimport numpy as np'); }\n",
       "    "
      ],
      "text/plain": [
       "<IPython.core.display.Javascript object>"
      ]
     },
     "metadata": {},
     "output_type": "display_data"
    },
    {
     "name": "stdout",
     "output_type": "stream",
     "text": [
      "Ttest_indResult(statistic=-1.4974773227453835, pvalue=0.1348355513746021)\n",
      "black hispanic\n"
     ]
    },
    {
     "data": {
      "application/javascript": [
       "\n",
       "        if (window._pyforest_update_imports_cell) { window._pyforest_update_imports_cell('import pandas as pd\\nfrom scipy import stats\\nimport numpy as np'); }\n",
       "    "
      ],
      "text/plain": [
       "<IPython.core.display.Javascript object>"
      ]
     },
     "metadata": {},
     "output_type": "display_data"
    },
    {
     "name": "stdout",
     "output_type": "stream",
     "text": [
      "Ttest_indResult(statistic=-0.9779887872139286, pvalue=0.328687679434698)\n",
      "black other\n"
     ]
    },
    {
     "data": {
      "application/javascript": [
       "\n",
       "        if (window._pyforest_update_imports_cell) { window._pyforest_update_imports_cell('import pandas as pd\\nfrom scipy import stats\\nimport numpy as np'); }\n",
       "    "
      ],
      "text/plain": [
       "<IPython.core.display.Javascript object>"
      ]
     },
     "metadata": {},
     "output_type": "display_data"
    },
    {
     "name": "stdout",
     "output_type": "stream",
     "text": [
      "Ttest_indResult(statistic=-1.537940275215305, pvalue=0.12568427083007871)\n",
      "black white\n"
     ]
    },
    {
     "data": {
      "application/javascript": [
       "\n",
       "        if (window._pyforest_update_imports_cell) { window._pyforest_update_imports_cell('import pandas as pd\\nfrom scipy import stats\\nimport numpy as np'); }\n",
       "    "
      ],
      "text/plain": [
       "<IPython.core.display.Javascript object>"
      ]
     },
     "metadata": {},
     "output_type": "display_data"
    },
    {
     "name": "stdout",
     "output_type": "stream",
     "text": [
      "Ttest_indResult(statistic=-5.202056491005275, pvalue=2.633606776382728e-07)\n",
      "hispanic other\n"
     ]
    },
    {
     "data": {
      "application/javascript": [
       "\n",
       "        if (window._pyforest_update_imports_cell) { window._pyforest_update_imports_cell('import pandas as pd\\nfrom scipy import stats\\nimport numpy as np'); }\n",
       "    "
      ],
      "text/plain": [
       "<IPython.core.display.Javascript object>"
      ]
     },
     "metadata": {},
     "output_type": "display_data"
    },
    {
     "name": "stdout",
     "output_type": "stream",
     "text": [
      "Ttest_indResult(statistic=-0.8181367221979297, pvalue=0.41394624196541574)\n",
      "hispanic white\n"
     ]
    },
    {
     "data": {
      "application/javascript": [
       "\n",
       "        if (window._pyforest_update_imports_cell) { window._pyforest_update_imports_cell('import pandas as pd\\nfrom scipy import stats\\nimport numpy as np'); }\n",
       "    "
      ],
      "text/plain": [
       "<IPython.core.display.Javascript object>"
      ]
     },
     "metadata": {},
     "output_type": "display_data"
    },
    {
     "name": "stdout",
     "output_type": "stream",
     "text": [
      "Ttest_indResult(statistic=-4.700227080302682, pvalue=3.0872364677332913e-06)\n",
      "other white\n"
     ]
    },
    {
     "data": {
      "application/javascript": [
       "\n",
       "        if (window._pyforest_update_imports_cell) { window._pyforest_update_imports_cell('import pandas as pd\\nfrom scipy import stats\\nimport numpy as np'); }\n",
       "    "
      ],
      "text/plain": [
       "<IPython.core.display.Javascript object>"
      ]
     },
     "metadata": {},
     "output_type": "display_data"
    },
    {
     "name": "stdout",
     "output_type": "stream",
     "text": [
      "Ttest_indResult(statistic=-1.6291313572855386, pvalue=0.10384458120219324)\n"
     ]
    }
   ],
   "source": [
    "#Get all race pairs\n",
    "race_pairs=[]\n",
    "\n",
    "for race1 in range(4):\n",
    "    for race2 in range(race1+1,5):\n",
    "        race_pairs.append((races[race1],races[race2]))\n",
    "\n",
    "#Conduct t-test on each pair\n",
    "for race1,race2 in race_pairs:\n",
    "    print(race1,race2)\n",
    "    print(stats.ttest_ind(voter_age[groups[race1]],\n",
    "                         voter_age[groups[race2]]))"
   ]
  },
  {
   "cell_type": "markdown",
   "id": "cb19342d",
   "metadata": {},
   "source": [
    "TUKEYS TEST"
   ]
  },
  {
   "cell_type": "code",
   "execution_count": 11,
   "id": "c8d8cff3",
   "metadata": {},
   "outputs": [
    {
     "name": "stderr",
     "output_type": "stream",
     "text": [
      "C:\\Users\\USER\\anaconda3\\lib\\site-packages\\statsmodels\\sandbox\\stats\\multicomp.py:775: UserWarning: FixedFormatter should only be used together with FixedLocator\n",
      "  ax1.set_yticklabels(np.insert(self.groupsunique.astype(str), 0, ''))\n"
     ]
    },
    {
     "data": {
      "application/javascript": [
       "\n",
       "        if (window._pyforest_update_imports_cell) { window._pyforest_update_imports_cell('import pandas as pd\\nfrom scipy import stats\\nimport numpy as np\\nimport matplotlib.pyplot as plt'); }\n",
       "    "
      ],
      "text/plain": [
       "<IPython.core.display.Javascript object>"
      ]
     },
     "metadata": {},
     "output_type": "display_data"
    },
    {
     "data": {
      "text/html": [
       "<table class=\"simpletable\">\n",
       "<caption>Multiple Comparison of Means - Tukey HSD, FWER=0.05</caption>\n",
       "<tr>\n",
       "   <th>group1</th>   <th>group2</th>  <th>meandiff</th>  <th>p-adj</th>  <th>lower</th>   <th>upper</th> <th>reject</th>\n",
       "</tr>\n",
       "<tr>\n",
       "    <td>asian</td>    <td>black</td>   <td>-1.3353</td> <td>0.6024</td> <td>-3.914</td>  <td>1.2433</td>  <td>False</td>\n",
       "</tr>\n",
       "<tr>\n",
       "    <td>asian</td>  <td>hispanic</td>  <td>-0.7593</td>   <td>0.9</td>  <td>-3.2171</td> <td>1.6984</td>  <td>False</td>\n",
       "</tr>\n",
       "<tr>\n",
       "    <td>asian</td>    <td>other</td>   <td>-0.0264</td>   <td>0.9</td>  <td>-3.1282</td> <td>3.0754</td>  <td>False</td>\n",
       "</tr>\n",
       "<tr>\n",
       "    <td>asian</td>    <td>white</td>   <td>1.2729</td>   <td>0.568</td> <td>-1.084</td>  <td>3.6297</td>  <td>False</td>\n",
       "</tr>\n",
       "<tr>\n",
       "    <td>black</td>  <td>hispanic</td>   <td>0.576</td>  <td>0.8351</td> <td>-0.9907</td> <td>2.1428</td>  <td>False</td>\n",
       "</tr>\n",
       "<tr>\n",
       "    <td>black</td>    <td>other</td>    <td>1.309</td>  <td>0.5792</td> <td>-1.1477</td> <td>3.7657</td>  <td>False</td>\n",
       "</tr>\n",
       "<tr>\n",
       "    <td>black</td>    <td>white</td>   <td>2.6082</td>   <td>0.001</td>  <td>1.205</td>  <td>4.0114</td>  <td>True</td> \n",
       "</tr>\n",
       "<tr>\n",
       "  <td>hispanic</td>   <td>other</td>    <td>0.733</td>    <td>0.9</td>  <td>-1.5965</td> <td>3.0624</td>  <td>False</td>\n",
       "</tr>\n",
       "<tr>\n",
       "  <td>hispanic</td>   <td>white</td>   <td>2.0322</td>   <td>0.001</td> <td>0.8659</td>  <td>3.1984</td>  <td>True</td> \n",
       "</tr>\n",
       "<tr>\n",
       "    <td>other</td>    <td>white</td>   <td>1.2992</td>  <td>0.4991</td> <td>-0.9236</td>  <td>3.522</td>  <td>False</td>\n",
       "</tr>\n",
       "</table>"
      ],
      "text/plain": [
       "<class 'statsmodels.iolib.table.SimpleTable'>"
      ]
     },
     "execution_count": 11,
     "metadata": {},
     "output_type": "execute_result"
    },
    {
     "data": {
      "image/png": "[encoded data removed]",
      "text/plain": [
       "<Figure size 720x432 with 1 Axes>"
      ]
     },
     "metadata": {
      "needs_background": "light"
     },
     "output_type": "display_data"
    }
   ],
   "source": [
    "from statsmodels.stats.multicomp import pairwise_tukeyhsd\n",
    "\n",
    "tukey=pairwise_tukeyhsd(endog=voter_age,  #Data\n",
    "                       groups=voter_race, #Groups\n",
    "                       alpha=0.05)        #Significance level\n",
    "\n",
    "tukey.plot_simultaneous() #Plot group confidence intervals\n",
    "plt.vlines(x=49.57,ymin=-0.5,ymax=4.5,color=\"red\")\n",
    "\n",
    "tukey.summary()   #See test summary"
   ]
  },
  {
   "cell_type": "code",
   "execution_count": null,
   "id": "90922bf8",
   "metadata": {},
   "outputs": [],
   "source": []
  }
 ],
 "metadata": {
  "kernelspec": {
   "display_name": "Python 3",
   "language": "python",
   "name": "python3"
  },
  "language_info": {
   "codemirror_mode": {
    "name": "ipython",
    "version": 3
   },
   "file_extension": ".py",
   "mimetype": "text/x-python",
   "name": "python",
   "nbconvert_exporter": "python",
   "pygments_lexer": "ipython3",
   "version": "3.8.8"
  }
 },
 "nbformat": 4,
 "nbformat_minor": 5
}
