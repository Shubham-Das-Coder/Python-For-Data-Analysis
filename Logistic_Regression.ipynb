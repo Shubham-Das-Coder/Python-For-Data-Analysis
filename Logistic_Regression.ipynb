{
 "cells": [
  {
   "cell_type": "markdown",
   "id": "7bc2b56d",
   "metadata": {},
   "source": [
    "LOGISTIC REGRESSION BASICS"
   ]
  },
  {
   "cell_type": "code",
   "execution_count": 1,
   "id": "0e763a7f",
   "metadata": {},
   "outputs": [
    {
     "data": {
      "application/javascript": [
       "\n",
       "        if (window._pyforest_update_imports_cell) { window._pyforest_update_imports_cell('import matplotlib.pyplot as plt'); }\n",
       "    "
      ],
      "text/plain": [
       "<IPython.core.display.Javascript object>"
      ]
     },
     "metadata": {},
     "output_type": "display_data"
    },
    {
     "data": {
      "application/javascript": [
       "\n",
       "        if (window._pyforest_update_imports_cell) { window._pyforest_update_imports_cell('import numpy as np\\nimport matplotlib.pyplot as plt'); }\n",
       "    "
      ],
      "text/plain": [
       "<IPython.core.display.Javascript object>"
      ]
     },
     "metadata": {},
     "output_type": "display_data"
    },
    {
     "data": {
      "application/javascript": [
       "\n",
       "        if (window._pyforest_update_imports_cell) { window._pyforest_update_imports_cell('import numpy as np\\nimport matplotlib.pyplot as plt'); }\n",
       "    "
      ],
      "text/plain": [
       "<IPython.core.display.Javascript object>"
      ]
     },
     "metadata": {},
     "output_type": "display_data"
    },
    {
     "data": {
      "application/javascript": [
       "\n",
       "        if (window._pyforest_update_imports_cell) { window._pyforest_update_imports_cell('import numpy as np\\nimport matplotlib.pyplot as plt'); }\n",
       "    "
      ],
      "text/plain": [
       "<IPython.core.display.Javascript object>"
      ]
     },
     "metadata": {},
     "output_type": "display_data"
    },
    {
     "data": {
      "text/plain": [
       "[<matplotlib.lines.Line2D at 0x1e7f44b59d0>]"
      ]
     },
     "execution_count": 1,
     "metadata": {},
     "output_type": "execute_result"
    },
    {
     "data": {
      "image/png": "[encoded data removed]",
      "text/plain": [
       "<Figure size 648x648 with 1 Axes>"
      ]
     },
     "metadata": {
      "needs_background": "light"
     },
     "output_type": "display_data"
    }
   ],
   "source": [
    "plt.figure(figsize=(9,9))\n",
    "\n",
    "def sigmoid(t):\n",
    "    return (1/(1+np.e**(-t)))\n",
    "\n",
    "plot_range=np.arange(-6,6,0.1)\n",
    "\n",
    "y_values=sigmoid(plot_range)\n",
    "    \n",
    "#Plot the curve\n",
    "plt.plot(plot_range, #X-axis range\n",
    "        y_values,    #Predicted values\n",
    "        color=\"red\") #Color"
   ]
  },
  {
   "cell_type": "code",
   "execution_count": 2,
   "id": "ef712082",
   "metadata": {},
   "outputs": [
    {
     "data": {
      "application/javascript": [
       "\n",
       "        if (window._pyforest_update_imports_cell) { window._pyforest_update_imports_cell('import numpy as np\\nimport matplotlib.pyplot as plt\\nimport pandas as pd'); }\n",
       "    "
      ],
      "text/plain": [
       "<IPython.core.display.Javascript object>"
      ]
     },
     "metadata": {},
     "output_type": "display_data"
    },
    {
     "data": {
      "application/javascript": [
       "\n",
       "        if (window._pyforest_update_imports_cell) { window._pyforest_update_imports_cell('import numpy as np\\nimport matplotlib.pyplot as plt\\nimport pandas as pd'); }\n",
       "    "
      ],
      "text/plain": [
       "<IPython.core.display.Javascript object>"
      ]
     },
     "metadata": {},
     "output_type": "display_data"
    },
    {
     "data": {
      "application/javascript": [
       "\n",
       "        if (window._pyforest_update_imports_cell) { window._pyforest_update_imports_cell('import numpy as np\\nimport matplotlib.pyplot as plt\\nimport pandas as pd'); }\n",
       "    "
      ],
      "text/plain": [
       "<IPython.core.display.Javascript object>"
      ]
     },
     "metadata": {},
     "output_type": "display_data"
    },
    {
     "data": {
      "application/javascript": [
       "\n",
       "        if (window._pyforest_update_imports_cell) { window._pyforest_update_imports_cell('import numpy as np\\nimport matplotlib.pyplot as plt\\nimport pandas as pd'); }\n",
       "    "
      ],
      "text/plain": [
       "<IPython.core.display.Javascript object>"
      ]
     },
     "metadata": {},
     "output_type": "display_data"
    },
    {
     "data": {
      "application/javascript": [
       "\n",
       "        if (window._pyforest_update_imports_cell) { window._pyforest_update_imports_cell('import numpy as np\\nimport matplotlib.pyplot as plt\\nimport pandas as pd'); }\n",
       "    "
      ],
      "text/plain": [
       "<IPython.core.display.Javascript object>"
      ]
     },
     "metadata": {},
     "output_type": "display_data"
    }
   ],
   "source": [
    "titanic_train=pd.read_csv(\"titanic_train.csv\") #Read the data\n",
    "char_cabin=titanic_train[\"Cabin\"].astype(str) #Convert cabin to str\n",
    "new_Cabin=np.array([cabin[0] for cabin in char_cabin]) #Take the first letter\n",
    "titanic_train[\"Cabin\"]=pd.Categorical(new_Cabin) #Save the new cabin var\n",
    "#Impute the median Age for NA Age values\n",
    "new_age_var=np.where(titanic_train[\"Age\"].isnull(), #Logical check\n",
    "                    28, #Value if check is true\n",
    "                    titanic_train[\"Age\"]) #Value if check is false\n",
    "titanic_train[\"Age\"]=new_age_var\n",
    "new_fare_var=np.where(titanic_train[\"Fare\"].isnull(), #Logical check\n",
    "                     50, #Value if check is true\n",
    "                     titanic_train[\"Fare\"]) #Value if check is false\n",
    "titanic_train[\"Fare\"]=new_fare_var"
   ]
  },
  {
   "cell_type": "code",
   "execution_count": 3,
   "id": "ccd1b634",
   "metadata": {},
   "outputs": [],
   "source": [
    "from sklearn import linear_model\n",
    "from sklearn import preprocessing"
   ]
  },
  {
   "cell_type": "code",
   "execution_count": 4,
   "id": "c96fadf1",
   "metadata": {},
   "outputs": [
    {
     "data": {
      "application/javascript": [
       "\n",
       "        if (window._pyforest_update_imports_cell) { window._pyforest_update_imports_cell('import numpy as np\\nimport matplotlib.pyplot as plt\\nimport pandas as pd'); }\n",
       "    "
      ],
      "text/plain": [
       "<IPython.core.display.Javascript object>"
      ]
     },
     "metadata": {},
     "output_type": "display_data"
    },
    {
     "name": "stdout",
     "output_type": "stream",
     "text": [
      "[1.01628767]\n",
      "[[-2.44597988]]\n"
     ]
    }
   ],
   "source": [
    "#Initialize label encoder\n",
    "label_encoder=preprocessing.LabelEncoder()\n",
    "\n",
    "#Convert Sex variable to numeric\n",
    "encoded_sex=label_encoder.fit_transform(titanic_train[\"Sex\"])\n",
    "\n",
    "#Initialize logistic regression model\n",
    "log_model=linear_model.LogisticRegression(solver='lbfgs')\n",
    "\n",
    "#Train the model\n",
    "log_model.fit(X=pd.DataFrame(encoded_sex),y=titanic_train[\"Survived\"])\n",
    "\n",
    "#Check trained model intercept\n",
    "print(log_model.intercept_)\n",
    "\n",
    "#Check trained model coefficients\n",
    "print(log_model.coef_)"
   ]
  },
  {
   "cell_type": "code",
   "execution_count": 5,
   "id": "5d7dfba6",
   "metadata": {},
   "outputs": [
    {
     "data": {
      "application/javascript": [
       "\n",
       "        if (window._pyforest_update_imports_cell) { window._pyforest_update_imports_cell('import numpy as np\\nimport matplotlib.pyplot as plt\\nimport pandas as pd'); }\n",
       "    "
      ],
      "text/plain": [
       "<IPython.core.display.Javascript object>"
      ]
     },
     "metadata": {},
     "output_type": "display_data"
    },
    {
     "data": {
      "application/javascript": [
       "\n",
       "        if (window._pyforest_update_imports_cell) { window._pyforest_update_imports_cell('import numpy as np\\nimport matplotlib.pyplot as plt\\nimport pandas as pd'); }\n",
       "    "
      ],
      "text/plain": [
       "<IPython.core.display.Javascript object>"
      ]
     },
     "metadata": {},
     "output_type": "display_data"
    },
    {
     "data": {
      "application/javascript": [
       "\n",
       "        if (window._pyforest_update_imports_cell) { window._pyforest_update_imports_cell('import numpy as np\\nimport matplotlib.pyplot as plt\\nimport pandas as pd'); }\n",
       "    "
      ],
      "text/plain": [
       "<IPython.core.display.Javascript object>"
      ]
     },
     "metadata": {},
     "output_type": "display_data"
    },
    {
     "data": {
      "text/html": [
       "<div>\n",
       "<style scoped>\n",
       "    .dataframe tbody tr th:only-of-type {\n",
       "        vertical-align: middle;\n",
       "    }\n",
       "\n",
       "    .dataframe tbody tr th {\n",
       "        vertical-align: top;\n",
       "    }\n",
       "\n",
       "    .dataframe thead th {\n",
       "        text-align: right;\n",
       "    }\n",
       "</style>\n",
       "<table border=\"1\" class=\"dataframe\">\n",
       "  <thead>\n",
       "    <tr style=\"text-align: right;\">\n",
       "      <th>Survival_prob</th>\n",
       "      <th>0.193147</th>\n",
       "      <th>0.734249</th>\n",
       "    </tr>\n",
       "    <tr>\n",
       "      <th>Sex</th>\n",
       "      <th></th>\n",
       "      <th></th>\n",
       "    </tr>\n",
       "  </thead>\n",
       "  <tbody>\n",
       "    <tr>\n",
       "      <th>female</th>\n",
       "      <td>0</td>\n",
       "      <td>314</td>\n",
       "    </tr>\n",
       "    <tr>\n",
       "      <th>male</th>\n",
       "      <td>577</td>\n",
       "      <td>0</td>\n",
       "    </tr>\n",
       "  </tbody>\n",
       "</table>\n",
       "</div>"
      ],
      "text/plain": [
       "Survival_prob  0.193147  0.734249\n",
       "Sex                              \n",
       "female                0       314\n",
       "male                577         0"
      ]
     },
     "execution_count": 5,
     "metadata": {},
     "output_type": "execute_result"
    }
   ],
   "source": [
    "#Make predictions\n",
    "preds=log_model.predict_proba(X=pd.DataFrame(encoded_sex))\n",
    "preds=pd.DataFrame(preds)\n",
    "preds.columns=[\"Death_prob\",\"Survival_prob\"]\n",
    "\n",
    "#Generate table of predictions vs Sex\n",
    "pd.crosstab(titanic_train[\"Sex\"],preds.loc[:,\"Survival_prob\"])"
   ]
  },
  {
   "cell_type": "code",
   "execution_count": 6,
   "id": "c14f0f6b",
   "metadata": {},
   "outputs": [
    {
     "data": {
      "application/javascript": [
       "\n",
       "        if (window._pyforest_update_imports_cell) { window._pyforest_update_imports_cell('import numpy as np\\nimport matplotlib.pyplot as plt\\nimport pandas as pd'); }\n",
       "    "
      ],
      "text/plain": [
       "<IPython.core.display.Javascript object>"
      ]
     },
     "metadata": {},
     "output_type": "display_data"
    },
    {
     "name": "stdout",
     "output_type": "stream",
     "text": [
      "[3.85818122]\n",
      "[[-0.93272694 -0.09865307 -2.51826528 -0.03339524]]\n"
     ]
    }
   ],
   "source": [
    "#Convert more variables to numeric\n",
    "encoded_class=label_encoder.fit_transform(titanic_train[\"Pclass\"])\n",
    "encoded_cabin=label_encoder.fit_transform(titanic_train[\"Cabin\"])\n",
    "\n",
    "train_features=pd.DataFrame([encoded_class,encoded_cabin,encoded_sex,titanic_train[\"Age\"]]).T\n",
    "\n",
    "#Initialize logistic regression model\n",
    "log_model=linear_model.LogisticRegression(solver='lbfgs')\n",
    "\n",
    "#Train the model\n",
    "log_model.fit(X=train_features,y=titanic_train[\"Survived\"])\n",
    "\n",
    "#Check trained model intercept\n",
    "print(log_model.intercept_)\n",
    "\n",
    "#Check trained model coefficients\n",
    "print(log_model.coef_)"
   ]
  },
  {
   "cell_type": "code",
   "execution_count": 7,
   "id": "f87fb8fa",
   "metadata": {},
   "outputs": [
    {
     "data": {
      "application/javascript": [
       "\n",
       "        if (window._pyforest_update_imports_cell) { window._pyforest_update_imports_cell('import numpy as np\\nimport matplotlib.pyplot as plt\\nimport pandas as pd'); }\n",
       "    "
      ],
      "text/plain": [
       "<IPython.core.display.Javascript object>"
      ]
     },
     "metadata": {},
     "output_type": "display_data"
    },
    {
     "data": {
      "text/html": [
       "<div>\n",
       "<style scoped>\n",
       "    .dataframe tbody tr th:only-of-type {\n",
       "        vertical-align: middle;\n",
       "    }\n",
       "\n",
       "    .dataframe tbody tr th {\n",
       "        vertical-align: top;\n",
       "    }\n",
       "\n",
       "    .dataframe thead th {\n",
       "        text-align: right;\n",
       "    }\n",
       "</style>\n",
       "<table border=\"1\" class=\"dataframe\">\n",
       "  <thead>\n",
       "    <tr style=\"text-align: right;\">\n",
       "      <th>Survived</th>\n",
       "      <th>0</th>\n",
       "      <th>1</th>\n",
       "    </tr>\n",
       "    <tr>\n",
       "      <th>row_0</th>\n",
       "      <th></th>\n",
       "      <th></th>\n",
       "    </tr>\n",
       "  </thead>\n",
       "  <tbody>\n",
       "    <tr>\n",
       "      <th>0</th>\n",
       "      <td>458</td>\n",
       "      <td>89</td>\n",
       "    </tr>\n",
       "    <tr>\n",
       "      <th>1</th>\n",
       "      <td>91</td>\n",
       "      <td>253</td>\n",
       "    </tr>\n",
       "  </tbody>\n",
       "</table>\n",
       "</div>"
      ],
      "text/plain": [
       "Survived    0    1\n",
       "row_0             \n",
       "0         458   89\n",
       "1          91  253"
      ]
     },
     "execution_count": 7,
     "metadata": {},
     "output_type": "execute_result"
    }
   ],
   "source": [
    "#Make predictions\n",
    "preds=log_model.predict(X=train_features)\n",
    "\n",
    "#Generate table of predictions vs actual\n",
    "pd.crosstab(preds,titanic_train[\"Survived\"])"
   ]
  },
  {
   "cell_type": "markdown",
   "id": "000d08e7",
   "metadata": {},
   "source": [
    "THE CONFUSION MATRIX"
   ]
  },
  {
   "cell_type": "code",
   "execution_count": 8,
   "id": "85673400",
   "metadata": {},
   "outputs": [
    {
     "data": {
      "text/plain": [
       "0.797979797979798"
      ]
     },
     "execution_count": 8,
     "metadata": {},
     "output_type": "execute_result"
    }
   ],
   "source": [
    "log_model.score(X=train_features,y=titanic_train[\"Survived\"])"
   ]
  },
  {
   "cell_type": "code",
   "execution_count": 9,
   "id": "979eb372",
   "metadata": {},
   "outputs": [
    {
     "data": {
      "text/plain": [
       "array([[458,  91],\n",
       "       [ 89, 253]], dtype=int64)"
      ]
     },
     "execution_count": 9,
     "metadata": {},
     "output_type": "execute_result"
    }
   ],
   "source": [
    "from sklearn import metrics\n",
    "\n",
    "#View confusion matrix\n",
    "metrics.confusion_matrix(y_true=titanic_train[\"Survived\"], #True labels\n",
    "                        y_pred=preds) #Predicted labels"
   ]
  },
  {
   "cell_type": "code",
   "execution_count": 11,
   "id": "67eed3d1",
   "metadata": {},
   "outputs": [
    {
     "name": "stdout",
     "output_type": "stream",
     "text": [
      "              precision    recall  f1-score   support\n",
      "\n",
      "           0       0.84      0.83      0.84       549\n",
      "           1       0.74      0.74      0.74       342\n",
      "\n",
      "    accuracy                           0.80       891\n",
      "   macro avg       0.79      0.79      0.79       891\n",
      "weighted avg       0.80      0.80      0.80       891\n",
      "\n"
     ]
    }
   ],
   "source": [
    "#View summary of common classification metrics\n",
    "print(metrics.classification_report(y_true=titanic_train[\"Survived\"],\n",
    "                                   y_pred=preds))"
   ]
  },
  {
   "cell_type": "code",
   "execution_count": 12,
   "id": "77119e1a",
   "metadata": {},
   "outputs": [
    {
     "data": {
      "application/javascript": [
       "\n",
       "        if (window._pyforest_update_imports_cell) { window._pyforest_update_imports_cell('import numpy as np\\nimport matplotlib.pyplot as plt\\nimport pandas as pd'); }\n",
       "    "
      ],
      "text/plain": [
       "<IPython.core.display.Javascript object>"
      ]
     },
     "metadata": {},
     "output_type": "display_data"
    },
    {
     "data": {
      "application/javascript": [
       "\n",
       "        if (window._pyforest_update_imports_cell) { window._pyforest_update_imports_cell('import numpy as np\\nimport matplotlib.pyplot as plt\\nimport pandas as pd'); }\n",
       "    "
      ],
      "text/plain": [
       "<IPython.core.display.Javascript object>"
      ]
     },
     "metadata": {},
     "output_type": "display_data"
    },
    {
     "data": {
      "application/javascript": [
       "\n",
       "        if (window._pyforest_update_imports_cell) { window._pyforest_update_imports_cell('import numpy as np\\nimport matplotlib.pyplot as plt\\nimport pandas as pd'); }\n",
       "    "
      ],
      "text/plain": [
       "<IPython.core.display.Javascript object>"
      ]
     },
     "metadata": {},
     "output_type": "display_data"
    },
    {
     "data": {
      "application/javascript": [
       "\n",
       "        if (window._pyforest_update_imports_cell) { window._pyforest_update_imports_cell('import numpy as np\\nimport matplotlib.pyplot as plt\\nimport pandas as pd'); }\n",
       "    "
      ],
      "text/plain": [
       "<IPython.core.display.Javascript object>"
      ]
     },
     "metadata": {},
     "output_type": "display_data"
    }
   ],
   "source": [
    "#Read and prepare test data\n",
    "titanic_test=pd.read_csv(\"titanic_train.csv\") #Read the data\n",
    "\n",
    "char_cabin=titanic_test[\"Cabin\"].astype(str) #Convert cabin to str\n",
    "\n",
    "new_Cabin=np.array([cabin[0] for cabin in char_cabin]) #Take first letter\n",
    "\n",
    "titanic_test[\"Cabin\"]=pd.Categorical(new_Cabin) #Save the new cabin var\n",
    "\n",
    "#Impute median Age for NA values\n",
    "new_age_var=np.where(titanic_test[\"Age\"].isnull(), #Logical check\n",
    "                    28, #Value if check is true\n",
    "                    titanic_test[\"Age\"]) #Value if check is false\n",
    "\n",
    "titanic_test[\"Age\"]=new_age_var"
   ]
  },
  {
   "cell_type": "code",
   "execution_count": 13,
   "id": "53da6b7e",
   "metadata": {},
   "outputs": [
    {
     "data": {
      "application/javascript": [
       "\n",
       "        if (window._pyforest_update_imports_cell) { window._pyforest_update_imports_cell('import numpy as np\\nimport matplotlib.pyplot as plt\\nimport pandas as pd'); }\n",
       "    "
      ],
      "text/plain": [
       "<IPython.core.display.Javascript object>"
      ]
     },
     "metadata": {},
     "output_type": "display_data"
    }
   ],
   "source": [
    "#Convert test variables to match model feeatures\n",
    "encoded_sex=label_encoder.fit_transform(titanic_test[\"Sex\"])\n",
    "encoded_class=label_encoder.fit_transform(titanic_test[\"Pclass\"])\n",
    "encoded_cabin=label_encoder.fit_transform(titanic_test[\"Cabin\"])\n",
    "\n",
    "test_features=pd.DataFrame([encoded_class,\n",
    "                           encoded_cabin,\n",
    "                           encoded_sex,\n",
    "                           titanic_test[\"Age\"]]).T"
   ]
  },
  {
   "cell_type": "code",
   "execution_count": 15,
   "id": "5dfb04f4",
   "metadata": {},
   "outputs": [
    {
     "data": {
      "application/javascript": [
       "\n",
       "        if (window._pyforest_update_imports_cell) { window._pyforest_update_imports_cell('import numpy as np\\nimport matplotlib.pyplot as plt\\nimport pandas as pd'); }\n",
       "    "
      ],
      "text/plain": [
       "<IPython.core.display.Javascript object>"
      ]
     },
     "metadata": {},
     "output_type": "display_data"
    }
   ],
   "source": [
    "#Make test set predictions\n",
    "test_preds=log_model.predict(X=test_features)\n",
    "\n",
    "#Create a submission for Kaggle\n",
    "submission=pd.DataFrame({\"PassengerId\":titanic_test[\"PassengerId\"],\n",
    "                       \"Survived\":test_preds})\n",
    "\n",
    "#Save submission to CSV\n",
    "submission.to_csv(\"Logistic_Regression_Submission.csv\",\n",
    "                 index=False) #Do not save index values"
   ]
  },
  {
   "cell_type": "code",
   "execution_count": null,
   "id": "9cbab8cf",
   "metadata": {},
   "outputs": [],
   "source": []
  }
 ],
 "metadata": {
  "kernelspec": {
   "display_name": "Python 3",
   "language": "python",
   "name": "python3"
  },
  "language_info": {
   "codemirror_mode": {
    "name": "ipython",
    "version": 3
   },
   "file_extension": ".py",
   "mimetype": "text/x-python",
   "name": "python",
   "nbconvert_exporter": "python",
   "pygments_lexer": "ipython3",
   "version": "3.8.8"
  }
 },
 "nbformat": 4,
 "nbformat_minor": 5
}
