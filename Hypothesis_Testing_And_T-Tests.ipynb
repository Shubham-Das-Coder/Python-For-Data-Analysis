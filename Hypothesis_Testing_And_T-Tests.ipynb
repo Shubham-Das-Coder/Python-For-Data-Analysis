{
 "cells": [
  {
   "cell_type": "code",
   "execution_count": 2,
   "id": "6945d6e6",
   "metadata": {},
   "outputs": [],
   "source": [
    "%matplotlib inline\n",
    "import numpy as np\n",
    "import pandas as pd\n",
    "import scipy.stats as stats\n",
    "import matplotlib.pyplot as plt\n",
    "import math"
   ]
  },
  {
   "cell_type": "code",
   "execution_count": 3,
   "id": "fa2d2b27",
   "metadata": {},
   "outputs": [
    {
     "name": "stdout",
     "output_type": "stream",
     "text": [
      "43.000112\n",
      "46.5\n"
     ]
    }
   ],
   "source": [
    "np.random.seed(6)\n",
    "population_ages_1=stats.poisson.rvs(loc=18,mu=35,size=150000)\n",
    "population_ages_2=stats.poisson.rvs(loc=18,mu=10,size=100000)\n",
    "population_ages=np.concatenate((population_ages_1,population_ages_2))\n",
    "\n",
    "minnesota_ages_1=stats.poisson.rvs(loc=18,mu=30,size=30)\n",
    "minnesota_ages_2=stats.poisson.rvs(loc=18,mu=10,size=20)\n",
    "minnesota_ages=np.concatenate((minnesota_ages_1,minnesota_ages_1))\n",
    "\n",
    "print(population_ages.mean())\n",
    "print(minnesota_ages.mean())"
   ]
  },
  {
   "cell_type": "code",
   "execution_count": 4,
   "id": "905d85df",
   "metadata": {},
   "outputs": [
    {
     "data": {
      "text/plain": [
       "Ttest_1sampResult(statistic=4.719248016473501, pvalue=1.4981471956837838e-05)"
      ]
     },
     "execution_count": 4,
     "metadata": {},
     "output_type": "execute_result"
    }
   ],
   "source": [
    "stats.ttest_1samp(a=minnesota_ages,             #Sample data\n",
    "                 popmean=population_ages.mean())#Population mean "
   ]
  },
  {
   "cell_type": "code",
   "execution_count": 5,
   "id": "67eab1ca",
   "metadata": {},
   "outputs": [
    {
     "data": {
      "text/plain": [
       "-2.0095752344892093"
      ]
     },
     "execution_count": 5,
     "metadata": {},
     "output_type": "execute_result"
    }
   ],
   "source": [
    "stats.t.ppf(q=0.025, #Quantile to check\n",
    "           df=49)    #Degrees of freedom"
   ]
  },
  {
   "cell_type": "code",
   "execution_count": 6,
   "id": "554d42d3",
   "metadata": {},
   "outputs": [
    {
     "data": {
      "text/plain": [
       "2.009575234489209"
      ]
     },
     "execution_count": 6,
     "metadata": {},
     "output_type": "execute_result"
    }
   ],
   "source": [
    "stats.t.ppf(q=0.975, #Quantile to check\n",
    "           df=49)    #Degrees of freedom"
   ]
  },
  {
   "cell_type": "code",
   "execution_count": 7,
   "id": "a2b58551",
   "metadata": {},
   "outputs": [
    {
     "data": {
      "text/plain": [
       "0.013121066545690117"
      ]
     },
     "execution_count": 7,
     "metadata": {},
     "output_type": "execute_result"
    }
   ],
   "source": [
    "stats.t.cdf(x=-2.5742, #T-test statistic\n",
    "           df=49)*2    #Multiply by 2 for two tailed test"
   ]
  },
  {
   "cell_type": "code",
   "execution_count": 8,
   "id": "fce6d375",
   "metadata": {},
   "outputs": [
    {
     "data": {
      "text/plain": [
       "(44.881075414859, 48.118924585141)"
      ]
     },
     "execution_count": 8,
     "metadata": {},
     "output_type": "execute_result"
    }
   ],
   "source": [
    "sigma=minnesota_ages.std()/math.sqrt(50)  #Sample stdev/sample size\n",
    "stats.t.interval(0.95,                    #Confidence level\n",
    "                df=49,                    #Degrees of freedom\n",
    "                loc=minnesota_ages.mean(),#Sample mean\n",
    "                scale=sigma)              #Standard deviation estimate"
   ]
  },
  {
   "cell_type": "code",
   "execution_count": 9,
   "id": "b36830d4",
   "metadata": {},
   "outputs": [
    {
     "data": {
      "text/plain": [
       "(44.341016318947595, 48.658983681052405)"
      ]
     },
     "execution_count": 9,
     "metadata": {},
     "output_type": "execute_result"
    }
   ],
   "source": [
    "stats.t.interval(0.99,                    #Confidence level\n",
    "                df=49,                    #Degrees of freedom\n",
    "                loc=minnesota_ages.mean(),#Sample mean\n",
    "                scale=sigma)              #Standard deviation estimate"
   ]
  },
  {
   "cell_type": "markdown",
   "id": "b3f5fcb2",
   "metadata": {},
   "source": [
    "TWO SAMPLE T-TEST"
   ]
  },
  {
   "cell_type": "code",
   "execution_count": 10,
   "id": "1e3dab07",
   "metadata": {},
   "outputs": [
    {
     "name": "stdout",
     "output_type": "stream",
     "text": [
      "33.22608695652174\n"
     ]
    }
   ],
   "source": [
    "np.random.seed(12)\n",
    "wisconsin_ages_1=stats.poisson.rvs(loc=18,mu=33,size=30)\n",
    "wisconsin_ages_2=stats.poisson.rvs(loc=18,mu=13,size=200)\n",
    "wisconsin_ages=np.concatenate((wisconsin_ages_1,wisconsin_ages_2))\n",
    "print(wisconsin_ages.mean())"
   ]
  },
  {
   "cell_type": "code",
   "execution_count": 11,
   "id": "ec6e4f76",
   "metadata": {},
   "outputs": [
    {
     "data": {
      "text/plain": [
       "Ttest_indResult(statistic=14.846546041530093, pvalue=8.462824796081591e-29)"
      ]
     },
     "execution_count": 11,
     "metadata": {},
     "output_type": "execute_result"
    }
   ],
   "source": [
    "stats.ttest_ind(a=minnesota_ages,  #ind=independence\n",
    "               b=wisconsin_ages,\n",
    "               equal_var=False)    #Assume sample have equal variance"
   ]
  },
  {
   "cell_type": "markdown",
   "id": "645a25f6",
   "metadata": {},
   "source": [
    "PAIRED T-TEST "
   ]
  },
  {
   "cell_type": "code",
   "execution_count": 13,
   "id": "8ce75958",
   "metadata": {},
   "outputs": [
    {
     "data": {
      "text/html": [
       "<div>\n",
       "<style scoped>\n",
       "    .dataframe tbody tr th:only-of-type {\n",
       "        vertical-align: middle;\n",
       "    }\n",
       "\n",
       "    .dataframe tbody tr th {\n",
       "        vertical-align: top;\n",
       "    }\n",
       "\n",
       "    .dataframe thead th {\n",
       "        text-align: right;\n",
       "    }\n",
       "</style>\n",
       "<table border=\"1\" class=\"dataframe\">\n",
       "  <thead>\n",
       "    <tr style=\"text-align: right;\">\n",
       "      <th></th>\n",
       "      <th>weight_before</th>\n",
       "      <th>weight_after</th>\n",
       "      <th>weight_change</th>\n",
       "    </tr>\n",
       "  </thead>\n",
       "  <tbody>\n",
       "    <tr>\n",
       "      <th>count</th>\n",
       "      <td>100.000000</td>\n",
       "      <td>100.000000</td>\n",
       "      <td>100.000000</td>\n",
       "    </tr>\n",
       "    <tr>\n",
       "      <th>mean</th>\n",
       "      <td>250.345546</td>\n",
       "      <td>249.115171</td>\n",
       "      <td>-1.230375</td>\n",
       "    </tr>\n",
       "    <tr>\n",
       "      <th>std</th>\n",
       "      <td>28.132539</td>\n",
       "      <td>28.422183</td>\n",
       "      <td>4.783696</td>\n",
       "    </tr>\n",
       "    <tr>\n",
       "      <th>min</th>\n",
       "      <td>170.400443</td>\n",
       "      <td>165.913930</td>\n",
       "      <td>-11.495286</td>\n",
       "    </tr>\n",
       "    <tr>\n",
       "      <th>25%</th>\n",
       "      <td>230.421042</td>\n",
       "      <td>229.148236</td>\n",
       "      <td>-4.046211</td>\n",
       "    </tr>\n",
       "    <tr>\n",
       "      <th>50%</th>\n",
       "      <td>250.830805</td>\n",
       "      <td>251.134089</td>\n",
       "      <td>-1.413463</td>\n",
       "    </tr>\n",
       "    <tr>\n",
       "      <th>75%</th>\n",
       "      <td>270.637145</td>\n",
       "      <td>268.927258</td>\n",
       "      <td>1.738673</td>\n",
       "    </tr>\n",
       "    <tr>\n",
       "      <th>max</th>\n",
       "      <td>314.700233</td>\n",
       "      <td>316.720357</td>\n",
       "      <td>9.759282</td>\n",
       "    </tr>\n",
       "  </tbody>\n",
       "</table>\n",
       "</div>"
      ],
      "text/plain": [
       "       weight_before  weight_after  weight_change\n",
       "count     100.000000    100.000000     100.000000\n",
       "mean      250.345546    249.115171      -1.230375\n",
       "std        28.132539     28.422183       4.783696\n",
       "min       170.400443    165.913930     -11.495286\n",
       "25%       230.421042    229.148236      -4.046211\n",
       "50%       250.830805    251.134089      -1.413463\n",
       "75%       270.637145    268.927258       1.738673\n",
       "max       314.700233    316.720357       9.759282"
      ]
     },
     "execution_count": 13,
     "metadata": {},
     "output_type": "execute_result"
    }
   ],
   "source": [
    "np.random.seed(11)\n",
    "before=stats.norm.rvs(scale=30,loc=250,size=100)\n",
    "after=before+stats.norm.rvs(scale=5,loc=-1.25,size=100)\n",
    "weight_df=pd.DataFrame({\"weight_before\":before,\n",
    "                       \"weight_after\":after,\n",
    "                       \"weight_change\":after-before})\n",
    "weight_df.describe()"
   ]
  },
  {
   "cell_type": "code",
   "execution_count": 14,
   "id": "2a4ebb0b",
   "metadata": {},
   "outputs": [
    {
     "data": {
      "text/plain": [
       "Ttest_relResult(statistic=2.5720175998568284, pvalue=0.011596444318439857)"
      ]
     },
     "execution_count": 14,
     "metadata": {},
     "output_type": "execute_result"
    }
   ],
   "source": [
    "stats.ttest_rel(a=before,\n",
    "               b=after)"
   ]
  },
  {
   "cell_type": "markdown",
   "id": "64bde2fa",
   "metadata": {},
   "source": [
    "TYPE I AND TYPE II ERROR"
   ]
  },
  {
   "cell_type": "code",
   "execution_count": 17,
   "id": "a20e0e75",
   "metadata": {},
   "outputs": [
    {
     "data": {
      "text/plain": [
       "Text(0, 0.02, 'Type II Error')"
      ]
     },
     "execution_count": 17,
     "metadata": {},
     "output_type": "execute_result"
    },
    {
     "data": {
      "image/png": "[encoded data removed]",
      "text/plain": [
       "<Figure size 864x720 with 1 Axes>"
      ]
     },
     "metadata": {
      "needs_background": "light"
     },
     "output_type": "display_data"
    }
   ],
   "source": [
    "plt.figure(figsize=(12,10))\n",
    "\n",
    "plt.fill_between(x=np.arange(-4,-2,0.01),\n",
    "                y1=stats.norm.pdf(np.arange(-4,-2,0.01)),\n",
    "                facecolor=\"red\",\n",
    "                alpha=0.35)\n",
    "\n",
    "plt.fill_between(x=np.arange(-2,2,0.01),\n",
    "                y1=stats.norm.pdf(np.arange(-2,2,0.01)),\n",
    "                facecolor=\"grey\",\n",
    "                alpha=0.35)\n",
    "\n",
    "plt.fill_between(x=np.arange(2,4,0.01),\n",
    "                y1=stats.norm.pdf(np.arange(2,4,0.01)),\n",
    "                facecolor=\"red\",\n",
    "                alpha=0.5)\n",
    "\n",
    "plt.fill_between(x=np.arange(-4,-2,0.01),\n",
    "                y1=stats.norm.pdf(np.arange(-4,-2,0.01),loc=3,scale=2),\n",
    "                facecolor=\"grey\",\n",
    "                alpha=0.35)\n",
    "\n",
    "plt.fill_between(x=np.arange(-2,2,0.01),\n",
    "                y1=stats.norm.pdf(np.arange(-2,2,0.01),loc=3,scale=2),\n",
    "                facecolor=\"blue\",\n",
    "                alpha=0.35)\n",
    "\n",
    "plt.fill_between(x=np.arange(2,10,0.01),\n",
    "                y1=stats.norm.pdf(np.arange(2,10,0.01),loc=3,scale=2),\n",
    "                facecolor=\"grey\",\n",
    "                alpha=0.35)\n",
    "\n",
    "plt.text(x=-0.8,y=0.15,s=\"Null Hypothesis\")\n",
    "plt.text(x=2.5,y=0.13,s=\"Alternative\")\n",
    "plt.text(x=2.1,y=0.01,s=\"Type I Error\")\n",
    "plt.text(x=-3.2,y=0.01,s=\"Type I Error\")\n",
    "plt.text(x=0,y=0.02,s=\"Type II Error\")"
   ]
  },
  {
   "cell_type": "code",
   "execution_count": null,
   "id": "25c1f693",
   "metadata": {},
   "outputs": [],
   "source": []
  }
 ],
 "metadata": {
  "kernelspec": {
   "display_name": "Python 3",
   "language": "python",
   "name": "python3"
  },
  "language_info": {
   "codemirror_mode": {
    "name": "ipython",
    "version": 3
   },
   "file_extension": ".py",
   "mimetype": "text/x-python",
   "name": "python",
   "nbconvert_exporter": "python",
   "pygments_lexer": "ipython3",
   "version": "3.8.8"
  }
 },
 "nbformat": 4,
 "nbformat_minor": 5
}
